{
  "nbformat": 4,
  "nbformat_minor": 0,
  "metadata": {
    "colab": {
      "name": "廖宇騰-week3.ipynb",
      "provenance": [],
      "authorship_tag": "ABX9TyN/iIq61tVn6bzvvvUj8W4c",
      "include_colab_link": true
    },
    "kernelspec": {
      "name": "python3",
      "display_name": "Python 3"
    }
  },
  "cells": [
    {
      "cell_type": "markdown",
      "metadata": {
        "id": "view-in-github",
        "colab_type": "text"
      },
      "source": [
        "<a href=\"https://colab.research.google.com/github/A109010147/Computational-Thinking-and-Program-Design/blob/main/%E5%BB%96%E5%AE%87%E9%A8%B0_week3.ipynb\" target=\"_parent\"><img src=\"https://colab.research.google.com/assets/colab-badge.svg\" alt=\"Open In Colab\"/></a>"
      ]
    },
    {
      "cell_type": "markdown",
      "metadata": {
        "id": "5DZ4_DcoWVPj"
      },
      "source": [
        ""
      ]
    },
    {
      "cell_type": "markdown",
      "metadata": {
        "id": "gcuaPUBDWYwM"
      },
      "source": [
        "#隨堂練習\r\n"
      ]
    },
    {
      "cell_type": "markdown",
      "metadata": {
        "id": "NBdPK6r5WPHk"
      },
      "source": [
        "電腦改變生活和工作的方式/用電腦解決問題/運算思維是一種解決問題的方法"
      ]
    },
    {
      "cell_type": "markdown",
      "metadata": {
        "id": "Rn-3NTzPWbZE"
      },
      "source": [
        "#課後練習"
      ]
    },
    {
      "cell_type": "markdown",
      "metadata": {
        "id": "UODoVzhwWo3s"
      },
      "source": [
        "對新聞系（OO系）學生為什麼要學「運算思維與程式設計」"
      ]
    },
    {
      "cell_type": "code",
      "metadata": {
        "id": "1_t01UwEWqL7"
      },
      "source": [
        ""
      ],
      "execution_count": null,
      "outputs": []
    },
    {
      "cell_type": "markdown",
      "metadata": {
        "id": "iP9KvEUTXTb8"
      },
      "source": [
        "https://www.cw.com.tw/article/5080736"
      ]
    },
    {
      "cell_type": "markdown",
      "metadata": {
        "id": "s8Ob-h22XYO9"
      },
      "source": [
        "從程式設計可能可以找出新聞的整理方法且換一套思考邏輯在熟悉的新聞領域上，在變換思考方式時有時可能找到比原思維更好的解決方法。"
      ]
    }
  ]
}