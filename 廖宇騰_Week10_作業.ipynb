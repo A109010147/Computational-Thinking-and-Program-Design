{
  "nbformat": 4,
  "nbformat_minor": 0,
  "metadata": {
    "kernelspec": {
      "display_name": "Python 3",
      "language": "python",
      "name": "python3"
    },
    "language_info": {
      "codemirror_mode": {
        "name": "ipython",
        "version": 3
      },
      "file_extension": ".py",
      "mimetype": "text/x-python",
      "name": "python",
      "nbconvert_exporter": "python",
      "pygments_lexer": "ipython3",
      "version": "3.8.5"
    },
    "colab": {
      "name": "廖宇騰-Week10-作業.ipynb",
      "provenance": [],
      "include_colab_link": true
    }
  },
  "cells": [
    {
      "cell_type": "markdown",
      "metadata": {
        "id": "view-in-github",
        "colab_type": "text"
      },
      "source": [
        "<a href=\"https://colab.research.google.com/github/A109010147/Computational-Thinking-and-Program-Design/blob/main/%E5%BB%96%E5%AE%87%E9%A8%B0_Week10_%E4%BD%9C%E6%A5%AD.ipynb\" target=\"_parent\"><img src=\"https://colab.research.google.com/assets/colab-badge.svg\" alt=\"Open In Colab\"/></a>"
      ]
    },
    {
      "cell_type": "markdown",
      "metadata": {
        "id": "OMX7Z74Kxv1m"
      },
      "source": [
        "# 基本程式設計(應用篇)"
      ]
    },
    {
      "cell_type": "markdown",
      "metadata": {
        "id": "AZ_ZwEzVxv1s"
      },
      "source": [
        "### 4-2 運算思維四個基石"
      ]
    },
    {
      "cell_type": "markdown",
      "metadata": {
        "id": "of-gbOH0xv1t"
      },
      "source": [
        "#### 4-2-4  問題拆解 - 打造你的聊天機器人"
      ]
    },
    {
      "cell_type": "markdown",
      "metadata": {
        "id": "6Xb0dqKgxv1t"
      },
      "source": [
        "「哈囉，大家好。我叫Zyxo64，是一個聊天機器人。\n",
        "\n",
        "在嗜好與興趣方面，我很喜歡美食，也喜歡養動物。\n",
        "\n",
        "很高興有機會來到世新大學，請大家多多指教。\n",
        "\n",
        "嗨！妳好，請問大名？：Francis。\n",
        "\n",
        "Francis，很高興認識你。"
      ]
    },
    {
      "cell_type": "code",
      "metadata": {
        "id": "ilMgWPHtxv1u"
      },
      "source": [
        "# 1.聊天機器人自我介紹\n",
        "\n",
        "\n",
        "# 2. 打招呼，取得對方名字\n"
      ],
      "execution_count": null,
      "outputs": []
    },
    {
      "cell_type": "markdown",
      "metadata": {
        "id": "wveyY6sgxv1u"
      },
      "source": [
        "抱歉，請問一下今年是西元2021年，那是民國幾年呢？：*110*。\n",
        "\n",
        "對！沒錯，謝謝妳！\n",
        "\n",
        "**Francis**，猜猜看我今年幾歲？ ：**18**。\n",
        "\n",
        "哇！你好聰明，我今年的確*18*。\n",
        "\n",
        "再82年我就100歲了。\n",
        "\n",
        "那時候是西元 2103年，也就是民國192年囉！"
      ]
    },
    {
      "cell_type": "code",
      "metadata": {
        "id": "1WZ4BC_qxv1u"
      },
      "source": [
        "# 3. 數學運算\n",
        "## 3-1 從使用者取得今年年份\n",
        "\n",
        "\n",
        "## 3-2 請使用者猜年齡\n",
        "\n",
        "\n",
        "## 3-3 計算聊天機器人滿100歲的年份\n",
        "\n"
      ],
      "execution_count": null,
      "outputs": []
    },
    {
      "cell_type": "markdown",
      "metadata": {
        "id": "ozcrJjS0xv1v"
      },
      "source": [
        "我喜歡吃巧克力，也喜歡嘗試各種新食物。\n",
        "\n",
        "你呢？你最喜歡的食物是什麼？**:披薩**。\n",
        "\n",
        "我也喜歡 *披薩*。\n",
        "\n",
        "你多久吃一次 *披薩*？**：每天**。\n",
        "\n",
        "真有趣。不知道這樣對健康好不好。"
      ]
    },
    {
      "cell_type": "code",
      "metadata": {
        "id": "Yb7C-X2gxv1v"
      },
      "source": [
        "# 4 興趣\n",
        "## 4-1 食物話題\n"
      ],
      "execution_count": null,
      "outputs": []
    },
    {
      "cell_type": "markdown",
      "metadata": {
        "id": "6a4zfam2xv1v"
      },
      "source": [
        "我最喜歡的動物是長頸鹿。你呢？ **：烏龜**。\n",
        "\n",
        "我不喜歡*烏龜*！\n",
        "\n",
        "不知道 *烏龜* 喜不喜歡吃 *披薩*？"
      ]
    },
    {
      "cell_type": "code",
      "metadata": {
        "id": "RsPhKofgxv1w"
      },
      "source": [
        "# 4 興趣\n",
        "## 4-2 動物話題\n"
      ],
      "execution_count": null,
      "outputs": []
    },
    {
      "cell_type": "markdown",
      "metadata": {
        "id": "cOG5gu20xv1w"
      },
      "source": [
        "你今天的心情如何？ **：很開心**。\n",
        "\n",
        "可以告訴我你 *開心* 的原因嗎？**因為週末了！** \n",
        "\n",
        "祝你週末愉快！\n",
        "\n",
        "我喜歡跟你聊天，現在有點累了，改天再聊吧！！\n",
        "\n",
        "再見 *Francis*！"
      ]
    },
    {
      "cell_type": "code",
      "metadata": {
        "id": "FRtqJAj-xv1w"
      },
      "source": [
        "# 5. 關於心情的對話\n"
      ],
      "execution_count": 1,
      "outputs": []
    },
    {
      "cell_type": "markdown",
      "metadata": {
        "id": "YOKWAAIjxv1w"
      },
      "source": [
        "我喜歡跟你聊天，現在有點累了，改天再聊吧！！\n",
        "\n",
        "再見 *Francis*！"
      ]
    },
    {
      "cell_type": "code",
      "metadata": {
        "id": "pkcIR2Vjxv1x"
      },
      "source": [
        "# 6. 道別\n"
      ],
      "execution_count": null,
      "outputs": []
    },
    {
      "cell_type": "markdown",
      "metadata": {
        "id": "SAxRlt12xv1x"
      },
      "source": [
        "## 期末報告"
      ]
    },
    {
      "cell_type": "markdown",
      "metadata": {
        "id": "-QZKGuyqxv1x"
      },
      "source": [
        "### 組長(學號姓名):\n",
        "\n"
      ]
    },
    {
      "cell_type": "markdown",
      "metadata": {
        "id": "3_9WnXaJxv1x"
      },
      "source": [
        "### 組員(學號姓名):\n",
        "\n"
      ]
    },
    {
      "cell_type": "markdown",
      "metadata": {
        "id": "ONHnKW7Hxv1x"
      },
      "source": [
        "### 題目:"
      ]
    },
    {
      "cell_type": "markdown",
      "metadata": {
        "id": "XtwK9A4lxv1x"
      },
      "source": [
        "### 百字腳本\n",
        "\n"
      ]
    }
  ]
}