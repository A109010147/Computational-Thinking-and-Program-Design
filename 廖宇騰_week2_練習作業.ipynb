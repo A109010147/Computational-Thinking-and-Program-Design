{
  "nbformat": 4,
  "nbformat_minor": 0,
  "metadata": {
    "colab": {
      "name": "廖宇騰-week2-練習作業.ipynb",
      "provenance": [],
      "authorship_tag": "ABX9TyNl9S/fGuU/Oy2XtP/i/YOQ",
      "include_colab_link": true
    },
    "kernelspec": {
      "name": "python3",
      "display_name": "Python 3"
    }
  },
  "cells": [
    {
      "cell_type": "markdown",
      "metadata": {
        "id": "view-in-github",
        "colab_type": "text"
      },
      "source": [
        "<a href=\"https://colab.research.google.com/github/A109010147/Computational-Thinking-and-Program-Design/blob/main/%E5%BB%96%E5%AE%87%E9%A8%B0_week2_%E7%B7%B4%E7%BF%92%E4%BD%9C%E6%A5%AD.ipynb\" target=\"_parent\"><img src=\"https://colab.research.google.com/assets/colab-badge.svg\" alt=\"Open In Colab\"/></a>"
      ]
    },
    {
      "cell_type": "code",
      "metadata": {
        "colab": {
          "base_uri": "https://localhost:8080/"
        },
        "id": "T4hZ1Y0VTiqL",
        "outputId": "c0ae4750-0b4d-42eb-b5d6-1fb5861025ba"
      },
      "source": [
        "print(1+1)"
      ],
      "execution_count": 1,
      "outputs": [
        {
          "output_type": "stream",
          "text": [
            "2\n"
          ],
          "name": "stdout"
        }
      ]
    },
    {
      "cell_type": "code",
      "metadata": {
        "colab": {
          "base_uri": "https://localhost:8080/"
        },
        "id": "zqFE6y_yT2hm",
        "outputId": "c0b135a0-b90b-4204-a3ba-1a0e66bf2a1d"
      },
      "source": [
        "print(\"hello world\")"
      ],
      "execution_count": 2,
      "outputs": [
        {
          "output_type": "stream",
          "text": [
            "hello world\n"
          ],
          "name": "stdout"
        }
      ]
    },
    {
      "cell_type": "code",
      "metadata": {
        "id": "Z6jw-NF_UQWI"
      },
      "source": [
        ""
      ],
      "execution_count": null,
      "outputs": []
    }
  ]
}